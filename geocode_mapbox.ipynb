{
 "cells": [
  {
   "cell_type": "code",
   "execution_count": 26,
   "id": "69eb6005-8fb1-49d6-abb3-e4291d70f9b5",
   "metadata": {},
   "outputs": [],
   "source": [
    "# Import libraries\n",
    "\n",
    "import pandas as pd\n",
    "import geopandas as gpd\n",
    "import requests"
   ]
  },
  {
   "cell_type": "code",
   "execution_count": 29,
   "id": "57c57c69",
   "metadata": {},
   "outputs": [],
   "source": [
    "#Function to geocode address from a CSV file\n",
    "\n",
    "def geocode_mapbox(csv_file, api_key):\n",
    "\n",
    "    df = pd.read_csv(csv_file, sep = ';')\n",
    "\n",
    "    params = {\n",
    "    'access_token': api_key,\n",
    "    'limits' : 1,\n",
    "    'types' : 'address',\n",
    "    'country' : 'RU',\n",
    "    'language' : 'ru',\n",
    "    'autocomplete' : 'false'\n",
    "    }\n",
    "\n",
    "    for index, row in df.iterrows():\n",
    "        address = row['address']\n",
    "        url = \"https://api.mapbox.com/geocoding/v5/mapbox.places/{}.json\".format(address)\n",
    "        \n",
    "        try:\n",
    "            response = requests.get(url, params)\n",
    "            data = response.json()\n",
    "            coordinates = data['features'][0]['center']\n",
    "            longitude, latitude = coordinates\n",
    "            \n",
    "            df.at[index, 'longitude'] = longitude\n",
    "            df.at[index, 'latitude'] = latitude\n",
    "            \n",
    "        except Exception as e:\n",
    "            print(f'Error with {address}:{e}')\n",
    "    \n",
    "    df.to_csv(f'{csv_file}_geocoded.csv', sep = ';')\n",
    "    print('Geocoding is completed. Results saved to a new file')\n"
   ]
  },
  {
   "cell_type": "code",
   "execution_count": 32,
   "id": "bd15ce9a",
   "metadata": {},
   "outputs": [
    {
     "name": "stdout",
     "output_type": "stream",
     "text": [
      "Geocoding is completed. Results saved to a new file\n"
     ]
    }
   ],
   "source": [
    "geocode_mapbox('df_sample.csv', 'pk.eyJ1IjoiZXZnZW5peWEtZmlsYXRvdmEiLCJhIjoiY2xzdXE0ZHB4MDdmcjJ2cWs2N3VkdnlrdSJ9.ix-B7SQUHQoinlVRIz4WNA')"
   ]
  },
  {
   "cell_type": "code",
   "execution_count": null,
   "id": "46779d45",
   "metadata": {},
   "outputs": [],
   "source": []
  }
 ],
 "metadata": {
  "kernelspec": {
   "display_name": "Python 3 (ipykernel)",
   "language": "python",
   "name": "python3"
  },
  "language_info": {
   "codemirror_mode": {
    "name": "ipython",
    "version": 3
   },
   "file_extension": ".py",
   "mimetype": "text/x-python",
   "name": "python",
   "nbconvert_exporter": "python",
   "pygments_lexer": "ipython3",
   "version": "3.11.7"
  }
 },
 "nbformat": 4,
 "nbformat_minor": 5
}
